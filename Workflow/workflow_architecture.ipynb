from diagrams import Diagram, Cluster, Edge
from diagrams.custom import Custom
from diagrams.aws.storage import S3
from diagrams.aws.database import Redshift
from diagrams.onprem.workflow import Airflow


with Diagram("Perclias", show=False, filename="Perclias") as diag:
    with Cluster(""):
        pinecone = Custom("", 'pinecone.png')
        firebase = Custom("Firebase", 'firebase.png')
        streamlit = Custom("Streamlit", "streamlit.png")
        user = Custom("Doctor", "user.png")
        user >> firebase >> streamlit 
        
        gemini = Custom("Gemini\nVision Pro", 'gemini.png')

        with Cluster("Transcribe & Detection"):
            
            
            openai_instance = Custom("OpenAI", 'openai.png')
            s3_instance = S3("S3")
            audio = Custom("Audio", "audio.png")
            
            
            langchain = Custom("Langchain", 'langchain.png')
            
            
            pinecone >> openai_instance
            streamlit >> audio >> openai_instance 
            openai_instance >> Edge(label="") >> streamlit
            streamlit >> Edge(label="") >> s3_instance
            s3_instance >> langchain >> openai_instance
            streamlit >> Edge(label='') >> gemini >> streamlit

        
            

            

        with Cluster("Medication"):
            airflow_instance = Airflow("DAG")
            seleniumnbeautifulsoup = Custom("", 'sns.jpeg')
            snowflake = Snowflake("Snowflake")
            
            pydantic = Custom("Pydantic",'pydantic.png' )

            airflow_instance >> seleniumnbeautifulsoup >> Edge(label='Scrape Data') >> pydantic >> snowflake
            snowflake  >> pinecone
            